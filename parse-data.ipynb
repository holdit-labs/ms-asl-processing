{
 "cells": [
  {
   "cell_type": "code",
   "execution_count": 38,
   "metadata": {},
   "outputs": [
    {
     "name": "stdout",
     "output_type": "stream",
     "text": [
      "Filtered JSON file created at: parsed-datasets/06_train.json\n",
      "Number of elements in the filtered JSON: 145\n"
     ]
    }
   ],
   "source": [
    "import json\n",
    "\n",
    "input_file_path = 'MSASL_train.json'\n",
    "output_file_path = 'parsed-datasets/06_train.json'\n",
    "num_vids = 50\n",
    "max_seconds = 58\n",
    "num_classes = 6\n",
    "\n",
    "# Read the original JSON data\n",
    "with open(input_file_path, 'r') as file:\n",
    "    data = json.load(file)\n",
    "\n",
    "limited_entries_by_label = {label: [] for label in range(num_classes)}  # For labels 0 through 5\n",
    "\n",
    "for entry in data:\n",
    "    if 0 <= entry[\"label\"] < num_classes and entry[\"end_time\"] < max_seconds: # less than 10 seconds to reduce download time\n",
    "        if len(limited_entries_by_label[entry[\"label\"]]) < num_vids:\n",
    "            limited_entries_by_label[entry[\"label\"]].append(entry)\n",
    "\n",
    "limited_filtered_data = [item for sublist in limited_entries_by_label.values() for item in sublist]\n",
    "\n",
    "filtered_data = sorted(limited_filtered_data, key=lambda x: x[\"label\"])\n",
    "\n",
    "\n",
    "# Write the filtered data to a new JSON file\n",
    "with open(output_file_path, 'w') as outfile:\n",
    "    json.dump(filtered_data, outfile, indent=4)\n",
    "\n",
    "print(f\"Filtered JSON file created at: {output_file_path}\")\n",
    "print(f\"Number of elements in the filtered JSON: {len(filtered_data)}\")"
   ]
  },
  {
   "cell_type": "code",
   "execution_count": 39,
   "metadata": {},
   "outputs": [
    {
     "name": "stdout",
     "output_type": "stream",
     "text": [
      "Label 0: 22 elements\n",
      "Label 1: 25 elements\n",
      "Label 2: 28 elements\n",
      "Label 3: 30 elements\n",
      "Label 4: 23 elements\n",
      "Label 5: 17 elements\n"
     ]
    }
   ],
   "source": [
    "label_counts = {label: 0 for label in range(6)}\n",
    "for entry in filtered_data:\n",
    "    label_counts[entry[\"label\"]] += 1\n",
    "for label, count in label_counts.items():\n",
    "    print(f\"Label {label}: {count} elements\")"
   ]
  },
  {
   "cell_type": "code",
   "execution_count": 21,
   "metadata": {},
   "outputs": [
    {
     "name": "stdout",
     "output_type": "stream",
     "text": [
      "Filtered JSON file created at: parsed-datasets/06_test.json\n",
      "Number of elements in the filtered JSON: 32\n"
     ]
    }
   ],
   "source": [
    "input_file_path = 'MSASL_test.json'\n",
    "output_file_path = 'parsed-datasets/06_test.json'\n",
    "\n",
    "# Read the original JSON data\n",
    "with open(input_file_path, 'r') as file:\n",
    "    data = json.load(file)\n",
    "\n",
    "# Filter the data based on the specified criteria\n",
    "filtered_data = [entry for entry in data if 0 <= entry[\"label\"] <= 5 and entry[\"end_time\"] < 10]\n",
    "\n",
    "filtered_data = sorted(filtered_data, key=lambda x: x[\"label\"])\n",
    "\n",
    "# Write the filtered data to a new JSON file\n",
    "with open(output_file_path, 'w') as outfile:\n",
    "    json.dump(filtered_data, outfile, indent=4)\n",
    "\n",
    "print(f\"Filtered JSON file created at: {output_file_path}\")\n",
    "print(f\"Number of elements in the filtered JSON: {len(filtered_data)}\")"
   ]
  },
  {
   "cell_type": "code",
   "execution_count": 22,
   "metadata": {},
   "outputs": [
    {
     "name": "stdout",
     "output_type": "stream",
     "text": [
      "Label 0: 17 elements\n",
      "Label 1: 3 elements\n",
      "Label 2: 4 elements\n",
      "Label 3: 5 elements\n",
      "Label 4: 1 elements\n",
      "Label 5: 2 elements\n"
     ]
    }
   ],
   "source": [
    "label_counts = {label: 0 for label in range(6)}\n",
    "for entry in filtered_data:\n",
    "    label_counts[entry[\"label\"]] += 1\n",
    "for label, count in label_counts.items():\n",
    "    print(f\"Label {label}: {count} elements\")"
   ]
  },
  {
   "cell_type": "code",
   "execution_count": 23,
   "metadata": {},
   "outputs": [
    {
     "name": "stdout",
     "output_type": "stream",
     "text": [
      "Filtered JSON file created at: parsed-datasets/06_val.json\n",
      "Number of elements in the filtered JSON: 16\n"
     ]
    }
   ],
   "source": [
    "input_file_path = 'MSASL_val.json'\n",
    "output_file_path = 'parsed-datasets/06_val.json'\n",
    "\n",
    "# Read the original JSON data\n",
    "with open(input_file_path, 'r') as file:\n",
    "    data = json.load(file)\n",
    "\n",
    "# Filter the data based on the specified criteria\n",
    "filtered_data = [entry for entry in data if 0 <= entry[\"label\"] <= 5 and entry[\"end_time\"] < 10]\n",
    "\n",
    "filtered_data = sorted(filtered_data, key=lambda x: x[\"label\"])\n",
    "\n",
    "# Write the filtered data to a new JSON file\n",
    "with open(output_file_path, 'w') as outfile:\n",
    "    json.dump(filtered_data, outfile, indent=4)\n",
    "\n",
    "print(f\"Filtered JSON file created at: {output_file_path}\")\n",
    "print(f\"Number of elements in the filtered JSON: {len(filtered_data)}\")"
   ]
  },
  {
   "cell_type": "code",
   "execution_count": 24,
   "metadata": {},
   "outputs": [
    {
     "name": "stdout",
     "output_type": "stream",
     "text": [
      "Label 0: 6 elements\n",
      "Label 1: 2 elements\n",
      "Label 2: 1 elements\n",
      "Label 3: 3 elements\n",
      "Label 4: 2 elements\n",
      "Label 5: 2 elements\n"
     ]
    }
   ],
   "source": [
    "label_counts = {label: 0 for label in range(6)}\n",
    "for entry in filtered_data:\n",
    "    label_counts[entry[\"label\"]] += 1\n",
    "for label, count in label_counts.items():\n",
    "    print(f\"Label {label}: {count} elements\")"
   ]
  },
  {
   "cell_type": "code",
   "execution_count": 41,
   "metadata": {},
   "outputs": [
    {
     "name": "stdout",
     "output_type": "stream",
     "text": [
      "YouTube links with times have been written to video_list.txt.\n"
     ]
    }
   ],
   "source": [
    "# create .txt video list for use with yt-dlp\n",
    "\n",
    "from math import floor, ceil\n",
    "\n",
    "# the file\n",
    "json_file_path = 'parsed-datasets/06_train.json'  \n",
    "txt_file_path = 'video_list.txt' \n",
    "\n",
    "with open(json_file_path, 'r') as json_file:\n",
    "    data = json.load(json_file)\n",
    "\n",
    "with open(txt_file_path, 'w') as txt_file:\n",
    "    for entry in data:\n",
    "        # Extracting and formatting the start and end times\n",
    "        start_minutes, start_seconds = divmod(floor(entry['start_time']), 60)\n",
    "        end_minutes, end_seconds = divmod(ceil(entry['end_time']), 60)\n",
    "\n",
    "        # Formatting the line to be written to the txt file\n",
    "        line = f'{entry[\"url\"]},*{start_minutes}:{start_seconds:02d}-{end_minutes}:{end_seconds:02d}\\n'\n",
    "        \n",
    "        # Writing the formatted line to the txt file\n",
    "        txt_file.write(line)\n",
    "\n",
    "print(f'YouTube links with times have been written to {txt_file_path}.')\n",
    "\n"
   ]
  },
  {
   "cell_type": "code",
   "execution_count": 51,
   "metadata": {},
   "outputs": [
    {
     "name": "stdout",
     "output_type": "stream",
     "text": [
      "TEACHER-hJZhwVjk-eo.mkv eo\n",
      "First 100 Verbs in ASL with captions-thdb-I-H9kE.webm H9kE\n",
      "How to sign 'Hello'-QB44Vddoi-w.webm w\n",
      "Basic ASL Vocabulary for Babies-htsdwxJ-fTo.webm fTo\n",
      "'teacher' in American Sign Language--DZaI_yoNac.mkv DZaI_yoNac\n",
      "Examples of Baby Sign Language-6UrcyZ-QeiU.webm QeiU\n",
      "ASL Class 02-08-10--LB4ENHxcIs.webm LB4ENHxcIs\n",
      "Unit 2 Vocabulary (Part 1) rev. 2018-AkGYEiN8vOY.mp4: Label 2\n",
      "eat - ASL sign for eat-E4LtjQ3gUO0.webm: Label 3\n",
      "SWIC Community Ed - Class Two-SC9lyDxbwUE.mkv: Label 5\n",
      "SN Unit 1 Video Vocab Review-p8OYydc3WQM.mkv: Label 0\n",
      "ASL： Food אוכל-ga_qPj5JN9c.mkv: Label 3\n",
      "ASL Lesson 1-DOZJOFHs75s.webm: Label 4\n",
      "TEACHER-CrUCwJklAUA.webm: Label 2\n",
      "Next Words： People in ASL with captions-Ni6Uixw5Qmo.mkv: Label 2\n",
      "How to sign Food - ASL Vocabulary Series-0YnizmAgAfU.mkv: Label 3\n",
      "NO-[opposite-of-yes]-pkzfT9cYvH0.webm: Label 4\n",
      "ASL Vocabulary ＂nice＂-hesnczlStrA.mkv: Label 1\n",
      "Hello-FVjpLa8GqeM.webm: Label 0\n",
      "ASL Level 1 Unit 2 Vocabulary-vcrTUbE1NoY.mkv: Label 2\n",
      "How to sign Eat - ASL Vocabulary Series-Gh3mZxIjKFE.mp4: Label 3\n",
      "Asl vocab 2-FNt4N8WFuVY.mkv: Label 2\n",
      "teacher - ASL sign for teacher-_HOx2QkkTsg.webm: Label 2\n",
      "NICE⧸CLEAN-2PeTh4Ym048.webm: Label 1\n",
      "CLEAN-pt8VPByKR58.mkv: Label 1\n",
      "Teacher in Sign Language, ASL Dictionary for kids-_NqL43yWhUk.webm: Label 2\n",
      "ASL Dictionary - Teacher-xu9VvX1Vbck.mkv: Label 2\n",
      "Basic Sign Language for Caregivers (mealtime)-XtkDeYBnR8o.webm: Label 3\n",
      "happy - ASL sign for happy-D5Glywo1wSA.webm: Label 5\n",
      "eat-9AYysHe14jg.mkv: Label 3\n",
      "Chores & Duties ｜ ASL - American Sign Language-y3Vd7SZ_bp4.webm: Label 1\n",
      "NICE-p67ss5Yhjbk.mp4: Label 1\n",
      "To eat - Asl-DGFSZB6BLLc.mp4: Label 3\n",
      "Unit 11 Vocabulary-jDCw7stJaM4.webm: Label 3\n",
      "Emotion Sign Language-96HY0Pcl_e4.mkv: Label 5\n",
      "ASL food-vE4RFGPqGqY.mp4: Label 3\n",
      "Opinion about Places Vocabulary ｜ ASL - American Sign Language-oVsuQbfMscM.mkv: Label 1\n",
      "'no' in American Sign Language-nyUDOPmQlZQ.mkv: Label 4\n",
      "First 100 Social Function-6XcxbPfP5YQ.webm: Label 4\n",
      "Happy birthday!-QBwuhvz8LAk.webm: Label 5\n",
      "ASL Vocabulary ＂happy＂-F16BdOmsr8w.mp4: Label 5\n",
      "Basic Sign Language for Caregivers of the Deaf⧸Hard of Hearing-rkQZQhloXuE.webm: Label 1\n",
      "ASL Level 2 Unit 12 Vocabulary-Gs9zBeSIVIE.webm: Label 3\n",
      "no - ASL sign for no-yDNcxRM9Nf8.webm: Label 4\n",
      "How to sign Happy - ASL Vocabulary Series-q8FmbxAC2VA.mp4: Label 5\n",
      "People at school ASL-nBvBJ91I5ZI.mp4: Label 2\n",
      "Important Emotion signs-fnhiGz4qE_I.mp4: Label 5\n",
      "EAT-OmylSinUxns.mkv: Label 3\n",
      "First 100 ADJECTIVES-QTbj2GM5ohs.mkv: Label 5\n",
      "'nice' in American Sign Language-3aXS3keR8oY.mp4: Label 1\n",
      "Hello - Asl-7iuyJ84wvds.mp4: Label 0\n",
      "Signing Naturally Unit 1 Vocabulary-JHFExZgYdwk.webm: Label 2\n",
      "NICE-yYmiLJpJocA.mp4: Label 1\n",
      "TEACHER-9JAG32jKZms.mp4: Label 2\n",
      "ASL 1： Unit 2 Vocabulary-f7COHRpmVKA.webm: Label 2\n",
      "#deaffriendly ASL Vocabulary - Hotel-WxY7E9P46DM.mp4: Label 0\n",
      "ASL： Happy שמח-m5H0ypryFRM.mp4: Label 5\n",
      "SWIC Community Ed - Class One-Ag5VPvAe8PA.mp4: Label 1\n",
      "Greetings-97WDRBCtj0o.webm: Label 0\n",
      "Unit 11 Vocabulary.mp4-PvzBgEcEPew.mkv: Label 3\n",
      "HELLO-RRzbB2rg4VM.mp4: Label 0\n",
      "ASL Numbers 1 10   Arkansas School for the Deaf-gU5EI_ZTzxw.mkv: Label 0\n",
      "Eat-mpvWKGLbGW4.mkv: Label 3\n",
      "FOOD-wecMr8cvy0M.mp4: Label 3\n",
      "School Signs in ASL-P3tBJESDamE.webm: Label 2\n",
      "How are you？-sEjaTTIdHhk.webm: Label 0\n",
      "teacher-HYK7P7Cm_aY.webm: Label 2\n"
     ]
    }
   ],
   "source": [
    "# Links in the MS-ASL dataset have been either made private, or the link does not exist anymore. When downloadingn files, yt-dlp sends an erro rin the log and moves on to the next download. Therefore, in the downloaded video-files directory, I need to look through every video file and find the corresponding match in the 06_train.json file in order to create labels for each. \n",
    "\n",
    "import os\n",
    "import json\n",
    "import re\n",
    "\n",
    "\n",
    "with open('parsed-datasets/06_train.json') as f:\n",
    "    data = json.load(f)\n",
    "\n",
    "# Extract IDs and their corresponding labels from the JSON URLs\n",
    "json_ids_labels = {}\n",
    "url_pattern = re.compile(r\"v=([a-zA-Z0-9_-]+)\")\n",
    "for item in data:\n",
    "    match = url_pattern.search(item[\"url\"])\n",
    "    if match:\n",
    "        json_ids_labels[match.group(1)] = item[\"label\"]\n",
    "\n",
    "video_dir = 'video-files'\n",
    "\n",
    "video_labels = {}\n",
    "\n",
    "# Iterate through each file in the video-files directory\n",
    "for filename in os.listdir(video_dir):\n",
    "    if filename.endswith(('.mp4', '.mkv', '.webm')):\n",
    "        file_id = filename.split('-')[-1].rsplit('.', 1)[0]\n",
    "        if file_id in json_ids_labels:\n",
    "            video_labels[filename] = json_ids_labels[file_id]\n",
    "        else:\n",
    "            print(filename, file_id)\n",
    "\n",
    "# Output the mapping of video files to labels\n",
    "for video, label in video_labels.items():\n",
    "    print(f\"{video}: Label {label}\")"
   ]
  },
  {
   "cell_type": "code",
   "execution_count": 52,
   "metadata": {},
   "outputs": [],
   "source": [
    "# TEACHER-hJZhwVjk-eo.mkv eo\n",
    "# First 100 Verbs in ASL with captions-thdb-I-H9kE.webm H9kE\n",
    "# How to sign 'Hello'-QB44Vddoi-w.webm w\n",
    "# Basic ASL Vocabulary for Babies-htsdwxJ-fTo.webm fTo\n",
    "# 'teacher' in American Sign Language--DZaI_yoNac.mkv DZaI_yoNac\n",
    "# Examples of Baby Sign Language-6UrcyZ-QeiU.webm QeiU\n",
    "# ASL Class 02-08-10--LB4ENHxcIs.webm LB4ENHxcIs\n",
    "\n",
    "video_labels['TEACHER-hJZhwVjk-eo.mkv'] = 2\n",
    "video_labels['First 100 Verbs in ASL with captions-thdb-I-H9kE.webm'] = 3\n",
    "video_labels[\"How to sign 'Hello'-QB44Vddoi-w.webm\"] = 0\n",
    "video_labels['Basic ASL Vocabulary for Babies-htsdwxJ-fTo.webm'] = 3\n",
    "video_labels[\"'teacher' in American Sign Language--DZaI_yoNac.mkv\"] = 2\n",
    "video_labels['Examples of Baby Sign Language-6UrcyZ-QeiU.webm'] = 3\n",
    "video_labels['ASL Class 02-08-10--LB4ENHxcIs.webm'] = 4"
   ]
  },
  {
   "cell_type": "code",
   "execution_count": 53,
   "metadata": {},
   "outputs": [
    {
     "data": {
      "text/plain": [
       "67"
      ]
     },
     "execution_count": 53,
     "metadata": {},
     "output_type": "execute_result"
    }
   ],
   "source": [
    "len(video_labels)"
   ]
  },
  {
   "cell_type": "code",
   "execution_count": 54,
   "metadata": {},
   "outputs": [],
   "source": [
    "file_path = './video_labels.json'\n",
    "\n",
    "with open(file_path, 'w') as file:\n",
    "    json.dump(video_labels, file)"
   ]
  }
 ],
 "metadata": {
  "kernelspec": {
   "display_name": "Python 3",
   "language": "python",
   "name": "python3"
  },
  "language_info": {
   "codemirror_mode": {
    "name": "ipython",
    "version": 3
   },
   "file_extension": ".py",
   "mimetype": "text/x-python",
   "name": "python",
   "nbconvert_exporter": "python",
   "pygments_lexer": "ipython3",
   "version": "3.11.3"
  }
 },
 "nbformat": 4,
 "nbformat_minor": 2
}
